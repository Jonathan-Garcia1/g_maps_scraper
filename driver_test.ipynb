{
 "cells": [
  {
   "cell_type": "code",
   "execution_count": 6,
   "metadata": {},
   "outputs": [],
   "source": [
    "from selenium import webdriver\n",
    "from selenium.webdriver.chrome.service import Service\n",
    "\n",
    "# Specify the path to the Chrome Beta binary\n",
    "chrome_binary_path = \"/Applications/Google Chrome Beta.app/Contents/MacOS/Google Chrome Beta\"\n",
    "\n",
    "# Specify the path to the ChromeDriver executable for Chrome Beta\n",
    "driver_path = \"/Users/jongarcia/codeup-data-science/googlemaps-scraper/chromedriver-mac-x64 BETA/chromedriver\"\n",
    "\n",
    "# Create a ChromeOptions object\n",
    "options = webdriver.ChromeOptions()\n",
    "\n",
    "# Set the binary location to Chrome Beta\n",
    "options.binary_location = chrome_binary_path\n",
    "\n",
    "# Create a Service object with the ChromeDriver path\n",
    "service = Service(driver_path)\n",
    "\n",
    "# Create a ChromeDriver with the specified options and executable path\n",
    "driver = webdriver.Chrome(service=service, options=options)\n"
   ]
  }
 ],
 "metadata": {
  "kernelspec": {
   "display_name": "google_maps_scrape",
   "language": "python",
   "name": "python3"
  },
  "language_info": {
   "codemirror_mode": {
    "name": "ipython",
    "version": 3
   },
   "file_extension": ".py",
   "mimetype": "text/x-python",
   "name": "python",
   "nbconvert_exporter": "python",
   "pygments_lexer": "ipython3",
   "version": "3.10.12"
  }
 },
 "nbformat": 4,
 "nbformat_minor": 2
}
